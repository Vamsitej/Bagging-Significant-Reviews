{
 "cells": [
  {
   "cell_type": "code",
   "execution_count": 1,
   "metadata": {},
   "outputs": [],
   "source": [
    "import numpy as np\n",
    "import pandas as pd\n",
    "import matplotlib.pyplot as plt\n",
    "import seaborn as sns\n",
    "%matplotlib inline"
   ]
  },
  {
   "cell_type": "code",
   "execution_count": 2,
   "metadata": {},
   "outputs": [],
   "source": [
    "df = pd.read_excel(\"EDA dataset polarity.xlsx\")"
   ]
  },
  {
   "cell_type": "code",
   "execution_count": 3,
   "metadata": {},
   "outputs": [
    {
     "data": {
      "text/html": [
       "<div>\n",
       "<style scoped>\n",
       "    .dataframe tbody tr th:only-of-type {\n",
       "        vertical-align: middle;\n",
       "    }\n",
       "\n",
       "    .dataframe tbody tr th {\n",
       "        vertical-align: top;\n",
       "    }\n",
       "\n",
       "    .dataframe thead th {\n",
       "        text-align: right;\n",
       "    }\n",
       "</style>\n",
       "<table border=\"1\" class=\"dataframe\">\n",
       "  <thead>\n",
       "    <tr style=\"text-align: right;\">\n",
       "      <th></th>\n",
       "      <th>rating</th>\n",
       "      <th>customer name</th>\n",
       "      <th>review title</th>\n",
       "      <th>reviews</th>\n",
       "      <th>review title.1</th>\n",
       "      <th>likes</th>\n",
       "      <th>dislikes</th>\n",
       "      <th>date</th>\n",
       "      <th>money</th>\n",
       "      <th>product</th>\n",
       "      <th>service</th>\n",
       "      <th>installation</th>\n",
       "      <th>bed</th>\n",
       "      <th>quality</th>\n",
       "      <th>wood</th>\n",
       "      <th>design</th>\n",
       "      <th>storage</th>\n",
       "      <th>delivery</th>\n",
       "    </tr>\n",
       "  </thead>\n",
       "  <tbody>\n",
       "    <tr>\n",
       "      <th>0</th>\n",
       "      <td>3</td>\n",
       "      <td>Amit Patil</td>\n",
       "      <td>Does the job</td>\n",
       "      <td>the product is not very good . it is just ok. ...</td>\n",
       "      <td>Does the job</td>\n",
       "      <td>413</td>\n",
       "      <td>233</td>\n",
       "      <td>2018-05-25</td>\n",
       "      <td>0.0000</td>\n",
       "      <td>0.0000</td>\n",
       "      <td>0.0000</td>\n",
       "      <td>0.2732</td>\n",
       "      <td>0.0000</td>\n",
       "      <td>0.0000</td>\n",
       "      <td>0.4927</td>\n",
       "      <td>0.0</td>\n",
       "      <td>0.0000</td>\n",
       "      <td>0.0</td>\n",
       "    </tr>\n",
       "    <tr>\n",
       "      <th>1</th>\n",
       "      <td>3</td>\n",
       "      <td>md.shakeel ahmed</td>\n",
       "      <td>Nice</td>\n",
       "      <td>reviewing after using 15 days what i observed ...</td>\n",
       "      <td>Nice</td>\n",
       "      <td>152</td>\n",
       "      <td>100</td>\n",
       "      <td>2018-08-25</td>\n",
       "      <td>0.0000</td>\n",
       "      <td>0.0000</td>\n",
       "      <td>0.0000</td>\n",
       "      <td>0.0000</td>\n",
       "      <td>-0.5849</td>\n",
       "      <td>0.5994</td>\n",
       "      <td>0.4404</td>\n",
       "      <td>0.0</td>\n",
       "      <td>0.4404</td>\n",
       "      <td>0.0</td>\n",
       "    </tr>\n",
       "    <tr>\n",
       "      <th>2</th>\n",
       "      <td>5</td>\n",
       "      <td>Samtabdi Nayak</td>\n",
       "      <td>Best in the market!</td>\n",
       "      <td>i don’t know all above or below comments but f...</td>\n",
       "      <td>Best in the market!</td>\n",
       "      <td>20</td>\n",
       "      <td>8</td>\n",
       "      <td>2019-01-25</td>\n",
       "      <td>0.6249</td>\n",
       "      <td>0.7506</td>\n",
       "      <td>-0.3626</td>\n",
       "      <td>0.0000</td>\n",
       "      <td>0.0000</td>\n",
       "      <td>-0.4215</td>\n",
       "      <td>0.4404</td>\n",
       "      <td>0.0</td>\n",
       "      <td>0.0000</td>\n",
       "      <td>0.0</td>\n",
       "    </tr>\n",
       "    <tr>\n",
       "      <th>3</th>\n",
       "      <td>4</td>\n",
       "      <td>ranjeeta sabat</td>\n",
       "      <td>Really Nice</td>\n",
       "      <td>i m giving my review after 10 days. the bed lo...</td>\n",
       "      <td>Really Nice</td>\n",
       "      <td>20</td>\n",
       "      <td>17</td>\n",
       "      <td>2020-06-25</td>\n",
       "      <td>0.3400</td>\n",
       "      <td>0.0000</td>\n",
       "      <td>0.0000</td>\n",
       "      <td>0.0000</td>\n",
       "      <td>-0.2960</td>\n",
       "      <td>0.0000</td>\n",
       "      <td>0.4404</td>\n",
       "      <td>0.0</td>\n",
       "      <td>0.5719</td>\n",
       "      <td>0.0</td>\n",
       "    </tr>\n",
       "    <tr>\n",
       "      <th>4</th>\n",
       "      <td>5</td>\n",
       "      <td>Rahul Mohandas Nair</td>\n",
       "      <td>Must buy!</td>\n",
       "      <td>the product is satisfactory! i would say the b...</td>\n",
       "      <td>Must buy!</td>\n",
       "      <td>20</td>\n",
       "      <td>7</td>\n",
       "      <td>2020-11-25</td>\n",
       "      <td>-0.1280</td>\n",
       "      <td>0.6369</td>\n",
       "      <td>0.6369</td>\n",
       "      <td>0.0000</td>\n",
       "      <td>0.0258</td>\n",
       "      <td>0.0000</td>\n",
       "      <td>0.0000</td>\n",
       "      <td>0.0</td>\n",
       "      <td>0.0000</td>\n",
       "      <td>0.0</td>\n",
       "    </tr>\n",
       "  </tbody>\n",
       "</table>\n",
       "</div>"
      ],
      "text/plain": [
       "   rating        customer name         review title  \\\n",
       "0       3           Amit Patil         Does the job   \n",
       "1       3     md.shakeel ahmed                 Nice   \n",
       "2       5       Samtabdi Nayak  Best in the market!   \n",
       "3       4       ranjeeta sabat          Really Nice   \n",
       "4       5  Rahul Mohandas Nair            Must buy!   \n",
       "\n",
       "                                             reviews       review title.1  \\\n",
       "0  the product is not very good . it is just ok. ...         Does the job   \n",
       "1  reviewing after using 15 days what i observed ...                 Nice   \n",
       "2  i don’t know all above or below comments but f...  Best in the market!   \n",
       "3  i m giving my review after 10 days. the bed lo...          Really Nice   \n",
       "4  the product is satisfactory! i would say the b...            Must buy!   \n",
       "\n",
       "   likes  dislikes       date   money  product  service  installation     bed  \\\n",
       "0    413       233 2018-05-25  0.0000   0.0000   0.0000        0.2732  0.0000   \n",
       "1    152       100 2018-08-25  0.0000   0.0000   0.0000        0.0000 -0.5849   \n",
       "2     20         8 2019-01-25  0.6249   0.7506  -0.3626        0.0000  0.0000   \n",
       "3     20        17 2020-06-25  0.3400   0.0000   0.0000        0.0000 -0.2960   \n",
       "4     20         7 2020-11-25 -0.1280   0.6369   0.6369        0.0000  0.0258   \n",
       "\n",
       "   quality    wood  design  storage  delivery  \n",
       "0   0.0000  0.4927     0.0   0.0000       0.0  \n",
       "1   0.5994  0.4404     0.0   0.4404       0.0  \n",
       "2  -0.4215  0.4404     0.0   0.0000       0.0  \n",
       "3   0.0000  0.4404     0.0   0.5719       0.0  \n",
       "4   0.0000  0.0000     0.0   0.0000       0.0  "
      ]
     },
     "execution_count": 3,
     "metadata": {},
     "output_type": "execute_result"
    }
   ],
   "source": [
    "df.head()"
   ]
  },
  {
   "cell_type": "code",
   "execution_count": 51,
   "metadata": {},
   "outputs": [
    {
     "data": {
      "text/plain": [
       "(2506, 18)"
      ]
     },
     "execution_count": 51,
     "metadata": {},
     "output_type": "execute_result"
    }
   ],
   "source": [
    "df.shape"
   ]
  },
  {
   "cell_type": "code",
   "execution_count": 4,
   "metadata": {},
   "outputs": [],
   "source": [
    "df['date'] = pd.to_datetime(df['date'])  "
   ]
  },
  {
   "cell_type": "code",
   "execution_count": 5,
   "metadata": {},
   "outputs": [],
   "source": [
    "df = df.sort_values(['date'])"
   ]
  },
  {
   "cell_type": "code",
   "execution_count": 6,
   "metadata": {},
   "outputs": [
    {
     "data": {
      "text/html": [
       "<div>\n",
       "<style scoped>\n",
       "    .dataframe tbody tr th:only-of-type {\n",
       "        vertical-align: middle;\n",
       "    }\n",
       "\n",
       "    .dataframe tbody tr th {\n",
       "        vertical-align: top;\n",
       "    }\n",
       "\n",
       "    .dataframe thead th {\n",
       "        text-align: right;\n",
       "    }\n",
       "</style>\n",
       "<table border=\"1\" class=\"dataframe\">\n",
       "  <thead>\n",
       "    <tr style=\"text-align: right;\">\n",
       "      <th></th>\n",
       "      <th>rating</th>\n",
       "      <th>customer name</th>\n",
       "      <th>review title</th>\n",
       "      <th>reviews</th>\n",
       "      <th>review title.1</th>\n",
       "      <th>likes</th>\n",
       "      <th>dislikes</th>\n",
       "      <th>date</th>\n",
       "      <th>money</th>\n",
       "      <th>product</th>\n",
       "      <th>service</th>\n",
       "      <th>installation</th>\n",
       "      <th>bed</th>\n",
       "      <th>quality</th>\n",
       "      <th>wood</th>\n",
       "      <th>design</th>\n",
       "      <th>storage</th>\n",
       "      <th>delivery</th>\n",
       "    </tr>\n",
       "  </thead>\n",
       "  <tbody>\n",
       "    <tr>\n",
       "      <th>224</th>\n",
       "      <td>4</td>\n",
       "      <td>Gopal Kumar</td>\n",
       "      <td>Good quality product</td>\n",
       "      <td>good</td>\n",
       "      <td>Good quality product</td>\n",
       "      <td>0</td>\n",
       "      <td>0</td>\n",
       "      <td>2021-03-24</td>\n",
       "      <td>0.00</td>\n",
       "      <td>0.0000</td>\n",
       "      <td>0.0</td>\n",
       "      <td>0.0</td>\n",
       "      <td>0.0000</td>\n",
       "      <td>0.0</td>\n",
       "      <td>0.0000</td>\n",
       "      <td>0.0</td>\n",
       "      <td>0.0</td>\n",
       "      <td>0.0</td>\n",
       "    </tr>\n",
       "    <tr>\n",
       "      <th>223</th>\n",
       "      <td>5</td>\n",
       "      <td>SURAJ JUVEKAR</td>\n",
       "      <td>Terrific</td>\n",
       "      <td>west at work,&lt;br/&gt;value for money,</td>\n",
       "      <td>Terrific</td>\n",
       "      <td>0</td>\n",
       "      <td>0</td>\n",
       "      <td>2021-03-24</td>\n",
       "      <td>0.34</td>\n",
       "      <td>0.0000</td>\n",
       "      <td>0.0</td>\n",
       "      <td>0.0</td>\n",
       "      <td>0.0000</td>\n",
       "      <td>0.0</td>\n",
       "      <td>0.0000</td>\n",
       "      <td>0.0</td>\n",
       "      <td>0.0</td>\n",
       "      <td>0.0</td>\n",
       "    </tr>\n",
       "    <tr>\n",
       "      <th>220</th>\n",
       "      <td>5</td>\n",
       "      <td>Flipkart Customer</td>\n",
       "      <td>Excellent</td>\n",
       "      <td>the product design, color material is good ..v...</td>\n",
       "      <td>Excellent</td>\n",
       "      <td>0</td>\n",
       "      <td>0</td>\n",
       "      <td>2021-03-25</td>\n",
       "      <td>0.00</td>\n",
       "      <td>0.0000</td>\n",
       "      <td>0.0</td>\n",
       "      <td>0.0</td>\n",
       "      <td>0.0000</td>\n",
       "      <td>0.0</td>\n",
       "      <td>0.6486</td>\n",
       "      <td>0.0</td>\n",
       "      <td>0.0</td>\n",
       "      <td>0.0</td>\n",
       "    </tr>\n",
       "    <tr>\n",
       "      <th>222</th>\n",
       "      <td>5</td>\n",
       "      <td>Flipkart Customer</td>\n",
       "      <td>Just wow!</td>\n",
       "      <td>absolutely loved it</td>\n",
       "      <td>Just wow!</td>\n",
       "      <td>0</td>\n",
       "      <td>0</td>\n",
       "      <td>2021-03-25</td>\n",
       "      <td>0.00</td>\n",
       "      <td>0.0000</td>\n",
       "      <td>0.0</td>\n",
       "      <td>0.0</td>\n",
       "      <td>0.6361</td>\n",
       "      <td>0.0</td>\n",
       "      <td>0.0000</td>\n",
       "      <td>0.0</td>\n",
       "      <td>0.0</td>\n",
       "      <td>0.0</td>\n",
       "    </tr>\n",
       "    <tr>\n",
       "      <th>221</th>\n",
       "      <td>5</td>\n",
       "      <td>Harsha Jampana</td>\n",
       "      <td>Highly recommended</td>\n",
       "      <td>very good product. received in good condition....</td>\n",
       "      <td>Highly recommended</td>\n",
       "      <td>0</td>\n",
       "      <td>0</td>\n",
       "      <td>2021-03-25</td>\n",
       "      <td>0.00</td>\n",
       "      <td>0.4927</td>\n",
       "      <td>0.0</td>\n",
       "      <td>0.0</td>\n",
       "      <td>0.0000</td>\n",
       "      <td>0.0</td>\n",
       "      <td>0.4404</td>\n",
       "      <td>0.0</td>\n",
       "      <td>0.0</td>\n",
       "      <td>0.0</td>\n",
       "    </tr>\n",
       "  </tbody>\n",
       "</table>\n",
       "</div>"
      ],
      "text/plain": [
       "     rating      customer name          review title  \\\n",
       "224       4        Gopal Kumar  Good quality product   \n",
       "223       5      SURAJ JUVEKAR              Terrific   \n",
       "220       5  Flipkart Customer             Excellent   \n",
       "222       5  Flipkart Customer             Just wow!   \n",
       "221       5     Harsha Jampana    Highly recommended   \n",
       "\n",
       "                                               reviews        review title.1  \\\n",
       "224                                               good  Good quality product   \n",
       "223                 west at work,<br/>value for money,              Terrific   \n",
       "220  the product design, color material is good ..v...             Excellent   \n",
       "222                                absolutely loved it             Just wow!   \n",
       "221  very good product. received in good condition....    Highly recommended   \n",
       "\n",
       "     likes  dislikes       date  money  product  service  installation  \\\n",
       "224      0         0 2021-03-24   0.00   0.0000      0.0           0.0   \n",
       "223      0         0 2021-03-24   0.34   0.0000      0.0           0.0   \n",
       "220      0         0 2021-03-25   0.00   0.0000      0.0           0.0   \n",
       "222      0         0 2021-03-25   0.00   0.0000      0.0           0.0   \n",
       "221      0         0 2021-03-25   0.00   0.4927      0.0           0.0   \n",
       "\n",
       "        bed  quality    wood  design  storage  delivery  \n",
       "224  0.0000      0.0  0.0000     0.0      0.0       0.0  \n",
       "223  0.0000      0.0  0.0000     0.0      0.0       0.0  \n",
       "220  0.0000      0.0  0.6486     0.0      0.0       0.0  \n",
       "222  0.6361      0.0  0.0000     0.0      0.0       0.0  \n",
       "221  0.0000      0.0  0.4404     0.0      0.0       0.0  "
      ]
     },
     "execution_count": 6,
     "metadata": {},
     "output_type": "execute_result"
    }
   ],
   "source": [
    "df.tail()"
   ]
  },
  {
   "cell_type": "code",
   "execution_count": 82,
   "metadata": {},
   "outputs": [
    {
     "data": {
      "text/html": [
       "<div>\n",
       "<style scoped>\n",
       "    .dataframe tbody tr th:only-of-type {\n",
       "        vertical-align: middle;\n",
       "    }\n",
       "\n",
       "    .dataframe tbody tr th {\n",
       "        vertical-align: top;\n",
       "    }\n",
       "\n",
       "    .dataframe thead th {\n",
       "        text-align: right;\n",
       "    }\n",
       "</style>\n",
       "<table border=\"1\" class=\"dataframe\">\n",
       "  <thead>\n",
       "    <tr style=\"text-align: right;\">\n",
       "      <th></th>\n",
       "      <th>rating</th>\n",
       "      <th>customer name</th>\n",
       "      <th>review title</th>\n",
       "      <th>reviews</th>\n",
       "      <th>review title.1</th>\n",
       "      <th>likes</th>\n",
       "      <th>dislikes</th>\n",
       "      <th>date</th>\n",
       "      <th>money</th>\n",
       "      <th>product</th>\n",
       "      <th>service</th>\n",
       "      <th>installation</th>\n",
       "      <th>bed</th>\n",
       "      <th>quality</th>\n",
       "      <th>wood</th>\n",
       "      <th>design</th>\n",
       "      <th>storage</th>\n",
       "      <th>delivery</th>\n",
       "    </tr>\n",
       "  </thead>\n",
       "  <tbody>\n",
       "    <tr>\n",
       "      <th>78</th>\n",
       "      <td>4</td>\n",
       "      <td>Rocky Srivastava</td>\n",
       "      <td>Fk amazing but jeeves service is pathetic</td>\n",
       "      <td>nerves installation service was pathetic, tech...</td>\n",
       "      <td>Fk amazing but jeeves service is pathetic</td>\n",
       "      <td>9</td>\n",
       "      <td>0</td>\n",
       "      <td>2018-03-25</td>\n",
       "      <td>0.0000</td>\n",
       "      <td>0.0</td>\n",
       "      <td>0.0</td>\n",
       "      <td>0.0000</td>\n",
       "      <td>-0.5719</td>\n",
       "      <td>0.0</td>\n",
       "      <td>0.0000</td>\n",
       "      <td>0.0</td>\n",
       "      <td>0.0</td>\n",
       "      <td>0.0</td>\n",
       "    </tr>\n",
       "    <tr>\n",
       "      <th>214</th>\n",
       "      <td>5</td>\n",
       "      <td>Kumar Puranjai</td>\n",
       "      <td>Simply awesome</td>\n",
       "      <td>its just awesome but its small in height and a...</td>\n",
       "      <td>Simply awesome</td>\n",
       "      <td>1</td>\n",
       "      <td>1</td>\n",
       "      <td>2018-04-25</td>\n",
       "      <td>0.6249</td>\n",
       "      <td>0.0</td>\n",
       "      <td>0.0</td>\n",
       "      <td>0.0000</td>\n",
       "      <td>0.0000</td>\n",
       "      <td>0.0</td>\n",
       "      <td>0.0000</td>\n",
       "      <td>0.0</td>\n",
       "      <td>0.0</td>\n",
       "      <td>0.0</td>\n",
       "    </tr>\n",
       "    <tr>\n",
       "      <th>122</th>\n",
       "      <td>5</td>\n",
       "      <td>Avishek Banerjee</td>\n",
       "      <td>Mind-blowing purchase</td>\n",
       "      <td>sad,,😣😣&lt;br/&gt; product is good, but the delivery...</td>\n",
       "      <td>Mind-blowing purchase</td>\n",
       "      <td>2</td>\n",
       "      <td>0</td>\n",
       "      <td>2018-04-25</td>\n",
       "      <td>0.0000</td>\n",
       "      <td>0.0</td>\n",
       "      <td>0.0</td>\n",
       "      <td>0.0000</td>\n",
       "      <td>0.0000</td>\n",
       "      <td>0.0</td>\n",
       "      <td>0.0000</td>\n",
       "      <td>0.0</td>\n",
       "      <td>0.0</td>\n",
       "      <td>0.0</td>\n",
       "    </tr>\n",
       "    <tr>\n",
       "      <th>106</th>\n",
       "      <td>5</td>\n",
       "      <td>Flipkart Customer</td>\n",
       "      <td>Fabulous!</td>\n",
       "      <td>is per now the product is looking good, instal...</td>\n",
       "      <td>Fabulous!</td>\n",
       "      <td>7</td>\n",
       "      <td>2</td>\n",
       "      <td>2018-04-25</td>\n",
       "      <td>0.0000</td>\n",
       "      <td>0.0</td>\n",
       "      <td>0.0</td>\n",
       "      <td>0.4404</td>\n",
       "      <td>0.0000</td>\n",
       "      <td>0.0</td>\n",
       "      <td>0.0000</td>\n",
       "      <td>0.0</td>\n",
       "      <td>0.0</td>\n",
       "      <td>0.0</td>\n",
       "    </tr>\n",
       "    <tr>\n",
       "      <th>84</th>\n",
       "      <td>5</td>\n",
       "      <td>Neel Gagan</td>\n",
       "      <td>Wonderful</td>\n",
       "      <td>product quality is good. price is also less. i...</td>\n",
       "      <td>Wonderful</td>\n",
       "      <td>61</td>\n",
       "      <td>28</td>\n",
       "      <td>2018-04-25</td>\n",
       "      <td>0.0000</td>\n",
       "      <td>0.0</td>\n",
       "      <td>0.0</td>\n",
       "      <td>0.0000</td>\n",
       "      <td>0.0000</td>\n",
       "      <td>0.0</td>\n",
       "      <td>0.4404</td>\n",
       "      <td>0.0</td>\n",
       "      <td>0.0</td>\n",
       "      <td>0.0</td>\n",
       "    </tr>\n",
       "  </tbody>\n",
       "</table>\n",
       "</div>"
      ],
      "text/plain": [
       "     rating      customer name                               review title  \\\n",
       "78        4   Rocky Srivastava  Fk amazing but jeeves service is pathetic   \n",
       "214       5     Kumar Puranjai                             Simply awesome   \n",
       "122       5   Avishek Banerjee                      Mind-blowing purchase   \n",
       "106       5  Flipkart Customer                                  Fabulous!   \n",
       "84        5         Neel Gagan                                  Wonderful   \n",
       "\n",
       "                                               reviews  \\\n",
       "78   nerves installation service was pathetic, tech...   \n",
       "214  its just awesome but its small in height and a...   \n",
       "122  sad,,😣😣<br/> product is good, but the delivery...   \n",
       "106  is per now the product is looking good, instal...   \n",
       "84   product quality is good. price is also less. i...   \n",
       "\n",
       "                                review title.1  likes  dislikes       date  \\\n",
       "78   Fk amazing but jeeves service is pathetic      9         0 2018-03-25   \n",
       "214                             Simply awesome      1         1 2018-04-25   \n",
       "122                      Mind-blowing purchase      2         0 2018-04-25   \n",
       "106                                  Fabulous!      7         2 2018-04-25   \n",
       "84                                   Wonderful     61        28 2018-04-25   \n",
       "\n",
       "      money  product  service  installation     bed  quality    wood  design  \\\n",
       "78   0.0000      0.0      0.0        0.0000 -0.5719      0.0  0.0000     0.0   \n",
       "214  0.6249      0.0      0.0        0.0000  0.0000      0.0  0.0000     0.0   \n",
       "122  0.0000      0.0      0.0        0.0000  0.0000      0.0  0.0000     0.0   \n",
       "106  0.0000      0.0      0.0        0.4404  0.0000      0.0  0.0000     0.0   \n",
       "84   0.0000      0.0      0.0        0.0000  0.0000      0.0  0.4404     0.0   \n",
       "\n",
       "     storage  delivery  \n",
       "78       0.0       0.0  \n",
       "214      0.0       0.0  \n",
       "122      0.0       0.0  \n",
       "106      0.0       0.0  \n",
       "84       0.0       0.0  "
      ]
     },
     "execution_count": 82,
     "metadata": {},
     "output_type": "execute_result"
    }
   ],
   "source": [
    "df.head()"
   ]
  },
  {
   "cell_type": "markdown",
   "metadata": {},
   "source": [
    "## Year Wise feature Analysis"
   ]
  },
  {
   "cell_type": "code",
   "execution_count": 7,
   "metadata": {},
   "outputs": [],
   "source": [
    "df_01 = df[df['date']<= '2019-03-25' ]"
   ]
  },
  {
   "cell_type": "code",
   "execution_count": 8,
   "metadata": {},
   "outputs": [],
   "source": [
    "df_02 = df[(df['date'] > '2019-03-25') & (df['date'] <= '2020-03-25')]"
   ]
  },
  {
   "cell_type": "code",
   "execution_count": 9,
   "metadata": {},
   "outputs": [],
   "source": [
    "df_03 = df[(df['date'] > '2020-03-25') & (df['date'] <= '2021-03-25')]"
   ]
  },
  {
   "cell_type": "code",
   "execution_count": 10,
   "metadata": {},
   "outputs": [
    {
     "data": {
      "text/html": [
       "<div>\n",
       "<style scoped>\n",
       "    .dataframe tbody tr th:only-of-type {\n",
       "        vertical-align: middle;\n",
       "    }\n",
       "\n",
       "    .dataframe tbody tr th {\n",
       "        vertical-align: top;\n",
       "    }\n",
       "\n",
       "    .dataframe thead th {\n",
       "        text-align: right;\n",
       "    }\n",
       "</style>\n",
       "<table border=\"1\" class=\"dataframe\">\n",
       "  <thead>\n",
       "    <tr style=\"text-align: right;\">\n",
       "      <th></th>\n",
       "      <th>rating</th>\n",
       "      <th>likes</th>\n",
       "      <th>dislikes</th>\n",
       "      <th>money</th>\n",
       "      <th>product</th>\n",
       "      <th>service</th>\n",
       "      <th>installation</th>\n",
       "      <th>bed</th>\n",
       "      <th>quality</th>\n",
       "      <th>wood</th>\n",
       "      <th>design</th>\n",
       "      <th>storage</th>\n",
       "      <th>delivery</th>\n",
       "    </tr>\n",
       "  </thead>\n",
       "  <tbody>\n",
       "    <tr>\n",
       "      <th>count</th>\n",
       "      <td>426.000000</td>\n",
       "      <td>426.000000</td>\n",
       "      <td>426.000000</td>\n",
       "      <td>426.000000</td>\n",
       "      <td>426.000000</td>\n",
       "      <td>426.000000</td>\n",
       "      <td>426.000000</td>\n",
       "      <td>426.000000</td>\n",
       "      <td>426.000000</td>\n",
       "      <td>426.000000</td>\n",
       "      <td>426.00000</td>\n",
       "      <td>426.000000</td>\n",
       "      <td>426.000000</td>\n",
       "    </tr>\n",
       "    <tr>\n",
       "      <th>mean</th>\n",
       "      <td>3.671362</td>\n",
       "      <td>2.948357</td>\n",
       "      <td>1.478873</td>\n",
       "      <td>0.021526</td>\n",
       "      <td>0.084454</td>\n",
       "      <td>0.000997</td>\n",
       "      <td>0.005846</td>\n",
       "      <td>0.013492</td>\n",
       "      <td>-0.006677</td>\n",
       "      <td>0.026899</td>\n",
       "      <td>0.00200</td>\n",
       "      <td>0.003083</td>\n",
       "      <td>0.007247</td>\n",
       "    </tr>\n",
       "    <tr>\n",
       "      <th>std</th>\n",
       "      <td>1.496656</td>\n",
       "      <td>23.668240</td>\n",
       "      <td>12.779055</td>\n",
       "      <td>0.105206</td>\n",
       "      <td>0.246179</td>\n",
       "      <td>0.114117</td>\n",
       "      <td>0.092448</td>\n",
       "      <td>0.149957</td>\n",
       "      <td>0.160563</td>\n",
       "      <td>0.115575</td>\n",
       "      <td>0.07265</td>\n",
       "      <td>0.075884</td>\n",
       "      <td>0.059809</td>\n",
       "    </tr>\n",
       "    <tr>\n",
       "      <th>min</th>\n",
       "      <td>1.000000</td>\n",
       "      <td>0.000000</td>\n",
       "      <td>0.000000</td>\n",
       "      <td>-0.421500</td>\n",
       "      <td>-0.659000</td>\n",
       "      <td>-0.624900</td>\n",
       "      <td>-0.624900</td>\n",
       "      <td>-0.624900</td>\n",
       "      <td>-0.659000</td>\n",
       "      <td>-0.525600</td>\n",
       "      <td>-0.49270</td>\n",
       "      <td>-0.624900</td>\n",
       "      <td>-0.273200</td>\n",
       "    </tr>\n",
       "    <tr>\n",
       "      <th>25%</th>\n",
       "      <td>3.000000</td>\n",
       "      <td>0.000000</td>\n",
       "      <td>0.000000</td>\n",
       "      <td>0.000000</td>\n",
       "      <td>0.000000</td>\n",
       "      <td>0.000000</td>\n",
       "      <td>0.000000</td>\n",
       "      <td>0.000000</td>\n",
       "      <td>0.000000</td>\n",
       "      <td>0.000000</td>\n",
       "      <td>0.00000</td>\n",
       "      <td>0.000000</td>\n",
       "      <td>0.000000</td>\n",
       "    </tr>\n",
       "    <tr>\n",
       "      <th>50%</th>\n",
       "      <td>4.000000</td>\n",
       "      <td>0.000000</td>\n",
       "      <td>0.000000</td>\n",
       "      <td>0.000000</td>\n",
       "      <td>0.000000</td>\n",
       "      <td>0.000000</td>\n",
       "      <td>0.000000</td>\n",
       "      <td>0.000000</td>\n",
       "      <td>0.000000</td>\n",
       "      <td>0.000000</td>\n",
       "      <td>0.00000</td>\n",
       "      <td>0.000000</td>\n",
       "      <td>0.000000</td>\n",
       "    </tr>\n",
       "    <tr>\n",
       "      <th>75%</th>\n",
       "      <td>5.000000</td>\n",
       "      <td>0.000000</td>\n",
       "      <td>0.000000</td>\n",
       "      <td>0.000000</td>\n",
       "      <td>0.000000</td>\n",
       "      <td>0.000000</td>\n",
       "      <td>0.000000</td>\n",
       "      <td>0.000000</td>\n",
       "      <td>0.000000</td>\n",
       "      <td>0.000000</td>\n",
       "      <td>0.00000</td>\n",
       "      <td>0.000000</td>\n",
       "      <td>0.000000</td>\n",
       "    </tr>\n",
       "    <tr>\n",
       "      <th>max</th>\n",
       "      <td>5.000000</td>\n",
       "      <td>413.000000</td>\n",
       "      <td>233.000000</td>\n",
       "      <td>0.636900</td>\n",
       "      <td>0.831600</td>\n",
       "      <td>0.624900</td>\n",
       "      <td>0.624900</td>\n",
       "      <td>0.659000</td>\n",
       "      <td>0.624900</td>\n",
       "      <td>0.707000</td>\n",
       "      <td>0.63690</td>\n",
       "      <td>0.556300</td>\n",
       "      <td>0.571900</td>\n",
       "    </tr>\n",
       "  </tbody>\n",
       "</table>\n",
       "</div>"
      ],
      "text/plain": [
       "           rating       likes    dislikes       money     product     service  \\\n",
       "count  426.000000  426.000000  426.000000  426.000000  426.000000  426.000000   \n",
       "mean     3.671362    2.948357    1.478873    0.021526    0.084454    0.000997   \n",
       "std      1.496656   23.668240   12.779055    0.105206    0.246179    0.114117   \n",
       "min      1.000000    0.000000    0.000000   -0.421500   -0.659000   -0.624900   \n",
       "25%      3.000000    0.000000    0.000000    0.000000    0.000000    0.000000   \n",
       "50%      4.000000    0.000000    0.000000    0.000000    0.000000    0.000000   \n",
       "75%      5.000000    0.000000    0.000000    0.000000    0.000000    0.000000   \n",
       "max      5.000000  413.000000  233.000000    0.636900    0.831600    0.624900   \n",
       "\n",
       "       installation         bed     quality        wood     design  \\\n",
       "count    426.000000  426.000000  426.000000  426.000000  426.00000   \n",
       "mean       0.005846    0.013492   -0.006677    0.026899    0.00200   \n",
       "std        0.092448    0.149957    0.160563    0.115575    0.07265   \n",
       "min       -0.624900   -0.624900   -0.659000   -0.525600   -0.49270   \n",
       "25%        0.000000    0.000000    0.000000    0.000000    0.00000   \n",
       "50%        0.000000    0.000000    0.000000    0.000000    0.00000   \n",
       "75%        0.000000    0.000000    0.000000    0.000000    0.00000   \n",
       "max        0.624900    0.659000    0.624900    0.707000    0.63690   \n",
       "\n",
       "          storage    delivery  \n",
       "count  426.000000  426.000000  \n",
       "mean     0.003083    0.007247  \n",
       "std      0.075884    0.059809  \n",
       "min     -0.624900   -0.273200  \n",
       "25%      0.000000    0.000000  \n",
       "50%      0.000000    0.000000  \n",
       "75%      0.000000    0.000000  \n",
       "max      0.556300    0.571900  "
      ]
     },
     "execution_count": 10,
     "metadata": {},
     "output_type": "execute_result"
    }
   ],
   "source": [
    "df_01.describe()"
   ]
  },
  {
   "cell_type": "code",
   "execution_count": 11,
   "metadata": {},
   "outputs": [
    {
     "data": {
      "text/html": [
       "<div>\n",
       "<style scoped>\n",
       "    .dataframe tbody tr th:only-of-type {\n",
       "        vertical-align: middle;\n",
       "    }\n",
       "\n",
       "    .dataframe tbody tr th {\n",
       "        vertical-align: top;\n",
       "    }\n",
       "\n",
       "    .dataframe thead th {\n",
       "        text-align: right;\n",
       "    }\n",
       "</style>\n",
       "<table border=\"1\" class=\"dataframe\">\n",
       "  <thead>\n",
       "    <tr style=\"text-align: right;\">\n",
       "      <th></th>\n",
       "      <th>rating</th>\n",
       "      <th>likes</th>\n",
       "      <th>dislikes</th>\n",
       "      <th>money</th>\n",
       "      <th>product</th>\n",
       "      <th>service</th>\n",
       "      <th>installation</th>\n",
       "      <th>bed</th>\n",
       "      <th>quality</th>\n",
       "      <th>wood</th>\n",
       "      <th>design</th>\n",
       "      <th>storage</th>\n",
       "      <th>delivery</th>\n",
       "    </tr>\n",
       "  </thead>\n",
       "  <tbody>\n",
       "    <tr>\n",
       "      <th>count</th>\n",
       "      <td>912.000000</td>\n",
       "      <td>912.000000</td>\n",
       "      <td>912.000000</td>\n",
       "      <td>912.000000</td>\n",
       "      <td>912.000000</td>\n",
       "      <td>912.000000</td>\n",
       "      <td>912.000000</td>\n",
       "      <td>912.000000</td>\n",
       "      <td>912.000000</td>\n",
       "      <td>912.000000</td>\n",
       "      <td>912.000000</td>\n",
       "      <td>912.000000</td>\n",
       "      <td>912.000000</td>\n",
       "    </tr>\n",
       "    <tr>\n",
       "      <th>mean</th>\n",
       "      <td>3.902412</td>\n",
       "      <td>0.447368</td>\n",
       "      <td>0.139254</td>\n",
       "      <td>0.025549</td>\n",
       "      <td>0.069245</td>\n",
       "      <td>0.013038</td>\n",
       "      <td>0.014253</td>\n",
       "      <td>0.028887</td>\n",
       "      <td>-0.007849</td>\n",
       "      <td>0.037032</td>\n",
       "      <td>0.004753</td>\n",
       "      <td>0.000746</td>\n",
       "      <td>0.005966</td>\n",
       "    </tr>\n",
       "    <tr>\n",
       "      <th>std</th>\n",
       "      <td>1.419758</td>\n",
       "      <td>4.446471</td>\n",
       "      <td>0.999075</td>\n",
       "      <td>0.125404</td>\n",
       "      <td>0.212419</td>\n",
       "      <td>0.117770</td>\n",
       "      <td>0.094888</td>\n",
       "      <td>0.149127</td>\n",
       "      <td>0.145427</td>\n",
       "      <td>0.140498</td>\n",
       "      <td>0.068369</td>\n",
       "      <td>0.075187</td>\n",
       "      <td>0.080191</td>\n",
       "    </tr>\n",
       "    <tr>\n",
       "      <th>min</th>\n",
       "      <td>1.000000</td>\n",
       "      <td>0.000000</td>\n",
       "      <td>0.000000</td>\n",
       "      <td>-0.585900</td>\n",
       "      <td>-0.659000</td>\n",
       "      <td>-0.624900</td>\n",
       "      <td>-0.542300</td>\n",
       "      <td>-0.624900</td>\n",
       "      <td>-0.624900</td>\n",
       "      <td>-0.476700</td>\n",
       "      <td>-0.476700</td>\n",
       "      <td>-0.624900</td>\n",
       "      <td>-0.584900</td>\n",
       "    </tr>\n",
       "    <tr>\n",
       "      <th>25%</th>\n",
       "      <td>3.000000</td>\n",
       "      <td>0.000000</td>\n",
       "      <td>0.000000</td>\n",
       "      <td>0.000000</td>\n",
       "      <td>0.000000</td>\n",
       "      <td>0.000000</td>\n",
       "      <td>0.000000</td>\n",
       "      <td>0.000000</td>\n",
       "      <td>0.000000</td>\n",
       "      <td>0.000000</td>\n",
       "      <td>0.000000</td>\n",
       "      <td>0.000000</td>\n",
       "      <td>0.000000</td>\n",
       "    </tr>\n",
       "    <tr>\n",
       "      <th>50%</th>\n",
       "      <td>5.000000</td>\n",
       "      <td>0.000000</td>\n",
       "      <td>0.000000</td>\n",
       "      <td>0.000000</td>\n",
       "      <td>0.000000</td>\n",
       "      <td>0.000000</td>\n",
       "      <td>0.000000</td>\n",
       "      <td>0.000000</td>\n",
       "      <td>0.000000</td>\n",
       "      <td>0.000000</td>\n",
       "      <td>0.000000</td>\n",
       "      <td>0.000000</td>\n",
       "      <td>0.000000</td>\n",
       "    </tr>\n",
       "    <tr>\n",
       "      <th>75%</th>\n",
       "      <td>5.000000</td>\n",
       "      <td>0.000000</td>\n",
       "      <td>0.000000</td>\n",
       "      <td>0.000000</td>\n",
       "      <td>0.000000</td>\n",
       "      <td>0.000000</td>\n",
       "      <td>0.000000</td>\n",
       "      <td>0.000000</td>\n",
       "      <td>0.000000</td>\n",
       "      <td>0.000000</td>\n",
       "      <td>0.000000</td>\n",
       "      <td>0.000000</td>\n",
       "      <td>0.000000</td>\n",
       "    </tr>\n",
       "    <tr>\n",
       "      <th>max</th>\n",
       "      <td>5.000000</td>\n",
       "      <td>122.000000</td>\n",
       "      <td>20.000000</td>\n",
       "      <td>0.680800</td>\n",
       "      <td>0.735100</td>\n",
       "      <td>0.867900</td>\n",
       "      <td>0.636900</td>\n",
       "      <td>0.765000</td>\n",
       "      <td>0.636900</td>\n",
       "      <td>0.871000</td>\n",
       "      <td>0.624900</td>\n",
       "      <td>0.771700</td>\n",
       "      <td>0.851900</td>\n",
       "    </tr>\n",
       "  </tbody>\n",
       "</table>\n",
       "</div>"
      ],
      "text/plain": [
       "           rating       likes    dislikes       money     product     service  \\\n",
       "count  912.000000  912.000000  912.000000  912.000000  912.000000  912.000000   \n",
       "mean     3.902412    0.447368    0.139254    0.025549    0.069245    0.013038   \n",
       "std      1.419758    4.446471    0.999075    0.125404    0.212419    0.117770   \n",
       "min      1.000000    0.000000    0.000000   -0.585900   -0.659000   -0.624900   \n",
       "25%      3.000000    0.000000    0.000000    0.000000    0.000000    0.000000   \n",
       "50%      5.000000    0.000000    0.000000    0.000000    0.000000    0.000000   \n",
       "75%      5.000000    0.000000    0.000000    0.000000    0.000000    0.000000   \n",
       "max      5.000000  122.000000   20.000000    0.680800    0.735100    0.867900   \n",
       "\n",
       "       installation         bed     quality        wood      design  \\\n",
       "count    912.000000  912.000000  912.000000  912.000000  912.000000   \n",
       "mean       0.014253    0.028887   -0.007849    0.037032    0.004753   \n",
       "std        0.094888    0.149127    0.145427    0.140498    0.068369   \n",
       "min       -0.542300   -0.624900   -0.624900   -0.476700   -0.476700   \n",
       "25%        0.000000    0.000000    0.000000    0.000000    0.000000   \n",
       "50%        0.000000    0.000000    0.000000    0.000000    0.000000   \n",
       "75%        0.000000    0.000000    0.000000    0.000000    0.000000   \n",
       "max        0.636900    0.765000    0.636900    0.871000    0.624900   \n",
       "\n",
       "          storage    delivery  \n",
       "count  912.000000  912.000000  \n",
       "mean     0.000746    0.005966  \n",
       "std      0.075187    0.080191  \n",
       "min     -0.624900   -0.584900  \n",
       "25%      0.000000    0.000000  \n",
       "50%      0.000000    0.000000  \n",
       "75%      0.000000    0.000000  \n",
       "max      0.771700    0.851900  "
      ]
     },
     "execution_count": 11,
     "metadata": {},
     "output_type": "execute_result"
    }
   ],
   "source": [
    "df_02.describe()"
   ]
  },
  {
   "cell_type": "code",
   "execution_count": 12,
   "metadata": {},
   "outputs": [
    {
     "data": {
      "text/html": [
       "<div>\n",
       "<style scoped>\n",
       "    .dataframe tbody tr th:only-of-type {\n",
       "        vertical-align: middle;\n",
       "    }\n",
       "\n",
       "    .dataframe tbody tr th {\n",
       "        vertical-align: top;\n",
       "    }\n",
       "\n",
       "    .dataframe thead th {\n",
       "        text-align: right;\n",
       "    }\n",
       "</style>\n",
       "<table border=\"1\" class=\"dataframe\">\n",
       "  <thead>\n",
       "    <tr style=\"text-align: right;\">\n",
       "      <th></th>\n",
       "      <th>rating</th>\n",
       "      <th>likes</th>\n",
       "      <th>dislikes</th>\n",
       "      <th>money</th>\n",
       "      <th>product</th>\n",
       "      <th>service</th>\n",
       "      <th>installation</th>\n",
       "      <th>bed</th>\n",
       "      <th>quality</th>\n",
       "      <th>wood</th>\n",
       "      <th>design</th>\n",
       "      <th>storage</th>\n",
       "      <th>delivery</th>\n",
       "    </tr>\n",
       "  </thead>\n",
       "  <tbody>\n",
       "    <tr>\n",
       "      <th>count</th>\n",
       "      <td>1168.000000</td>\n",
       "      <td>1168.000000</td>\n",
       "      <td>1168.000000</td>\n",
       "      <td>1168.000000</td>\n",
       "      <td>1168.000000</td>\n",
       "      <td>1168.000000</td>\n",
       "      <td>1168.000000</td>\n",
       "      <td>1168.000000</td>\n",
       "      <td>1168.000000</td>\n",
       "      <td>1168.000000</td>\n",
       "      <td>1168.000000</td>\n",
       "      <td>1168.000000</td>\n",
       "      <td>1168.000000</td>\n",
       "    </tr>\n",
       "    <tr>\n",
       "      <th>mean</th>\n",
       "      <td>3.869863</td>\n",
       "      <td>0.122432</td>\n",
       "      <td>0.043664</td>\n",
       "      <td>0.015642</td>\n",
       "      <td>0.067854</td>\n",
       "      <td>0.007965</td>\n",
       "      <td>0.009565</td>\n",
       "      <td>0.019786</td>\n",
       "      <td>-0.000411</td>\n",
       "      <td>0.044744</td>\n",
       "      <td>0.008554</td>\n",
       "      <td>0.000604</td>\n",
       "      <td>0.008315</td>\n",
       "    </tr>\n",
       "    <tr>\n",
       "      <th>std</th>\n",
       "      <td>1.437716</td>\n",
       "      <td>1.266364</td>\n",
       "      <td>0.662868</td>\n",
       "      <td>0.112123</td>\n",
       "      <td>0.221445</td>\n",
       "      <td>0.127834</td>\n",
       "      <td>0.099181</td>\n",
       "      <td>0.153377</td>\n",
       "      <td>0.150779</td>\n",
       "      <td>0.147935</td>\n",
       "      <td>0.074790</td>\n",
       "      <td>0.071036</td>\n",
       "      <td>0.073880</td>\n",
       "    </tr>\n",
       "    <tr>\n",
       "      <th>min</th>\n",
       "      <td>1.000000</td>\n",
       "      <td>0.000000</td>\n",
       "      <td>0.000000</td>\n",
       "      <td>-0.542300</td>\n",
       "      <td>-0.754800</td>\n",
       "      <td>-0.624900</td>\n",
       "      <td>-0.624900</td>\n",
       "      <td>-0.757900</td>\n",
       "      <td>-0.781800</td>\n",
       "      <td>-0.584900</td>\n",
       "      <td>-0.542300</td>\n",
       "      <td>-0.755900</td>\n",
       "      <td>-0.338400</td>\n",
       "    </tr>\n",
       "    <tr>\n",
       "      <th>25%</th>\n",
       "      <td>3.000000</td>\n",
       "      <td>0.000000</td>\n",
       "      <td>0.000000</td>\n",
       "      <td>0.000000</td>\n",
       "      <td>0.000000</td>\n",
       "      <td>0.000000</td>\n",
       "      <td>0.000000</td>\n",
       "      <td>0.000000</td>\n",
       "      <td>0.000000</td>\n",
       "      <td>0.000000</td>\n",
       "      <td>0.000000</td>\n",
       "      <td>0.000000</td>\n",
       "      <td>0.000000</td>\n",
       "    </tr>\n",
       "    <tr>\n",
       "      <th>50%</th>\n",
       "      <td>4.500000</td>\n",
       "      <td>0.000000</td>\n",
       "      <td>0.000000</td>\n",
       "      <td>0.000000</td>\n",
       "      <td>0.000000</td>\n",
       "      <td>0.000000</td>\n",
       "      <td>0.000000</td>\n",
       "      <td>0.000000</td>\n",
       "      <td>0.000000</td>\n",
       "      <td>0.000000</td>\n",
       "      <td>0.000000</td>\n",
       "      <td>0.000000</td>\n",
       "      <td>0.000000</td>\n",
       "    </tr>\n",
       "    <tr>\n",
       "      <th>75%</th>\n",
       "      <td>5.000000</td>\n",
       "      <td>0.000000</td>\n",
       "      <td>0.000000</td>\n",
       "      <td>0.000000</td>\n",
       "      <td>0.000000</td>\n",
       "      <td>0.000000</td>\n",
       "      <td>0.000000</td>\n",
       "      <td>0.000000</td>\n",
       "      <td>0.000000</td>\n",
       "      <td>0.000000</td>\n",
       "      <td>0.000000</td>\n",
       "      <td>0.000000</td>\n",
       "      <td>0.000000</td>\n",
       "    </tr>\n",
       "    <tr>\n",
       "      <th>max</th>\n",
       "      <td>5.000000</td>\n",
       "      <td>21.000000</td>\n",
       "      <td>17.000000</td>\n",
       "      <td>0.636900</td>\n",
       "      <td>0.757900</td>\n",
       "      <td>0.867900</td>\n",
       "      <td>0.778300</td>\n",
       "      <td>0.867900</td>\n",
       "      <td>0.994300</td>\n",
       "      <td>0.871000</td>\n",
       "      <td>0.778300</td>\n",
       "      <td>0.571900</td>\n",
       "      <td>0.669700</td>\n",
       "    </tr>\n",
       "  </tbody>\n",
       "</table>\n",
       "</div>"
      ],
      "text/plain": [
       "            rating        likes     dislikes        money      product  \\\n",
       "count  1168.000000  1168.000000  1168.000000  1168.000000  1168.000000   \n",
       "mean      3.869863     0.122432     0.043664     0.015642     0.067854   \n",
       "std       1.437716     1.266364     0.662868     0.112123     0.221445   \n",
       "min       1.000000     0.000000     0.000000    -0.542300    -0.754800   \n",
       "25%       3.000000     0.000000     0.000000     0.000000     0.000000   \n",
       "50%       4.500000     0.000000     0.000000     0.000000     0.000000   \n",
       "75%       5.000000     0.000000     0.000000     0.000000     0.000000   \n",
       "max       5.000000    21.000000    17.000000     0.636900     0.757900   \n",
       "\n",
       "           service  installation          bed      quality         wood  \\\n",
       "count  1168.000000   1168.000000  1168.000000  1168.000000  1168.000000   \n",
       "mean      0.007965      0.009565     0.019786    -0.000411     0.044744   \n",
       "std       0.127834      0.099181     0.153377     0.150779     0.147935   \n",
       "min      -0.624900     -0.624900    -0.757900    -0.781800    -0.584900   \n",
       "25%       0.000000      0.000000     0.000000     0.000000     0.000000   \n",
       "50%       0.000000      0.000000     0.000000     0.000000     0.000000   \n",
       "75%       0.000000      0.000000     0.000000     0.000000     0.000000   \n",
       "max       0.867900      0.778300     0.867900     0.994300     0.871000   \n",
       "\n",
       "            design      storage     delivery  \n",
       "count  1168.000000  1168.000000  1168.000000  \n",
       "mean      0.008554     0.000604     0.008315  \n",
       "std       0.074790     0.071036     0.073880  \n",
       "min      -0.542300    -0.755900    -0.338400  \n",
       "25%       0.000000     0.000000     0.000000  \n",
       "50%       0.000000     0.000000     0.000000  \n",
       "75%       0.000000     0.000000     0.000000  \n",
       "max       0.778300     0.571900     0.669700  "
      ]
     },
     "execution_count": 12,
     "metadata": {},
     "output_type": "execute_result"
    }
   ],
   "source": [
    "df_03.describe()"
   ]
  },
  {
   "cell_type": "code",
   "execution_count": 13,
   "metadata": {},
   "outputs": [
    {
     "name": "stderr",
     "output_type": "stream",
     "text": [
      "<ipython-input-13-c537538a311b>:1: FutureWarning: DataFrame.mean and DataFrame.median with numeric_only=None will include datetime64 and datetime64tz columns in a future version.\n",
      "  df_01_mean = df_01.mean()\n"
     ]
    }
   ],
   "source": [
    "df_01_mean = df_01.mean()"
   ]
  },
  {
   "cell_type": "code",
   "execution_count": 14,
   "metadata": {},
   "outputs": [
    {
     "data": {
      "text/plain": [
       "quality        -0.006677\n",
       "service         0.000997\n",
       "design          0.002000\n",
       "storage         0.003083\n",
       "installation    0.005846\n",
       "delivery        0.007247\n",
       "bed             0.013492\n",
       "money           0.021526\n",
       "wood            0.026899\n",
       "product         0.084454\n",
       "dislikes        1.478873\n",
       "likes           2.948357\n",
       "rating          3.671362\n",
       "dtype: float64"
      ]
     },
     "execution_count": 14,
     "metadata": {},
     "output_type": "execute_result"
    }
   ],
   "source": [
    "df_01_mean.sort_values()"
   ]
  },
  {
   "cell_type": "markdown",
   "metadata": {},
   "source": [
    "## Inferences:\n",
    "\n",
    "** By calculating the average polarity scores \n",
    "\n",
    "** For the period between '2018-03-25' and '2019-03-25'\n",
    "\n",
    "** The feature which were more talked by the reviewers are delivery ,bed money           "
   ]
  },
  {
   "cell_type": "code",
   "execution_count": 15,
   "metadata": {},
   "outputs": [
    {
     "name": "stderr",
     "output_type": "stream",
     "text": [
      "<ipython-input-15-2aebf7502cf2>:1: FutureWarning: DataFrame.mean and DataFrame.median with numeric_only=None will include datetime64 and datetime64tz columns in a future version.\n",
      "  df_02_mean = df_02.mean()\n"
     ]
    }
   ],
   "source": [
    "df_02_mean = df_02.mean()"
   ]
  },
  {
   "cell_type": "code",
   "execution_count": 16,
   "metadata": {},
   "outputs": [
    {
     "data": {
      "text/plain": [
       "quality        -0.007849\n",
       "storage         0.000746\n",
       "design          0.004753\n",
       "delivery        0.005966\n",
       "service         0.013038\n",
       "installation    0.014253\n",
       "money           0.025549\n",
       "bed             0.028887\n",
       "wood            0.037032\n",
       "product         0.069245\n",
       "dislikes        0.139254\n",
       "likes           0.447368\n",
       "rating          3.902412\n",
       "dtype: float64"
      ]
     },
     "execution_count": 16,
     "metadata": {},
     "output_type": "execute_result"
    }
   ],
   "source": [
    "df_02_mean.sort_values()"
   ]
  },
  {
   "cell_type": "markdown",
   "metadata": {},
   "source": [
    "## Inferences:\n",
    "\n",
    "** By calculating the average polarity scores \n",
    "\n",
    "** For the period between '2019-03-25' and '2020-03-25'\n",
    "\n",
    "** The feature which were more talked by the reviewers are product, wood, bed           "
   ]
  },
  {
   "cell_type": "code",
   "execution_count": 17,
   "metadata": {},
   "outputs": [
    {
     "name": "stderr",
     "output_type": "stream",
     "text": [
      "<ipython-input-17-098f8e3ebb5b>:1: FutureWarning: DataFrame.mean and DataFrame.median with numeric_only=None will include datetime64 and datetime64tz columns in a future version.\n",
      "  df_03_mean = df_03.mean()\n"
     ]
    }
   ],
   "source": [
    "df_03_mean = df_03.mean()"
   ]
  },
  {
   "cell_type": "code",
   "execution_count": 18,
   "metadata": {},
   "outputs": [
    {
     "data": {
      "text/plain": [
       "quality        -0.000411\n",
       "storage         0.000604\n",
       "service         0.007965\n",
       "delivery        0.008315\n",
       "design          0.008554\n",
       "installation    0.009565\n",
       "money           0.015642\n",
       "bed             0.019786\n",
       "dislikes        0.043664\n",
       "wood            0.044744\n",
       "product         0.067854\n",
       "likes           0.122432\n",
       "rating          3.869863\n",
       "dtype: float64"
      ]
     },
     "execution_count": 18,
     "metadata": {},
     "output_type": "execute_result"
    }
   ],
   "source": [
    "df_03_mean.sort_values()"
   ]
  },
  {
   "cell_type": "markdown",
   "metadata": {},
   "source": [
    "## Inferences:\n",
    "\n",
    "** By calculating the average polarity scores \n",
    "\n",
    "** For the period between '2020-03-25' and '2021-03-25'\n",
    "\n",
    "** The feature which were more talked by the reviewers are product, wood, bed           "
   ]
  },
  {
   "cell_type": "markdown",
   "metadata": {},
   "source": [
    "## Quarter month wise Analysis"
   ]
  },
  {
   "cell_type": "code",
   "execution_count": 19,
   "metadata": {},
   "outputs": [],
   "source": [
    "df18_q2 = df[(df['date'] >= '2018-04-01') & (df['date'] <= '2018-06-30')]"
   ]
  },
  {
   "cell_type": "code",
   "execution_count": 20,
   "metadata": {},
   "outputs": [],
   "source": [
    "df18_q3 = df[(df['date'] >= '2018-07-01') & (df['date'] <= '2018-09-30')]"
   ]
  },
  {
   "cell_type": "code",
   "execution_count": 21,
   "metadata": {},
   "outputs": [],
   "source": [
    "df18_q4 = df[(df['date'] >= '2018-10-01') & (df['date'] <= '2018-12-31')]"
   ]
  },
  {
   "cell_type": "code",
   "execution_count": 22,
   "metadata": {},
   "outputs": [],
   "source": [
    "df19_q1 = df[(df['date'] >= '2019-01-01') & (df['date'] <= '2019-03-31')]"
   ]
  },
  {
   "cell_type": "code",
   "execution_count": 23,
   "metadata": {},
   "outputs": [],
   "source": [
    "df19_q2 = df[(df['date'] >= '2019-04-01') & (df['date'] <= '2019-06-30')]"
   ]
  },
  {
   "cell_type": "code",
   "execution_count": 24,
   "metadata": {},
   "outputs": [],
   "source": [
    "df19_q3 = df[(df['date'] >= '2019-07-01') & (df['date'] <= '2019-09-30')]"
   ]
  },
  {
   "cell_type": "code",
   "execution_count": 25,
   "metadata": {},
   "outputs": [],
   "source": [
    "df19_q4 = df[(df['date'] >= '2019-10-01') & (df['date'] <= '2019-12-31')]"
   ]
  },
  {
   "cell_type": "code",
   "execution_count": 26,
   "metadata": {},
   "outputs": [],
   "source": [
    "df20_q1 = df[(df['date'] >= '2020-01-01') & (df['date'] <= '2020-03-31')]"
   ]
  },
  {
   "cell_type": "code",
   "execution_count": 27,
   "metadata": {},
   "outputs": [],
   "source": [
    "df20_q2 = df[(df['date'] >= '2020-04-01') & (df['date'] <= '2020-06-30')]"
   ]
  },
  {
   "cell_type": "code",
   "execution_count": 28,
   "metadata": {},
   "outputs": [],
   "source": [
    "df20_q3 = df[(df['date'] >= '2020-07-01') & (df['date'] <= '2020-09-30')]"
   ]
  },
  {
   "cell_type": "code",
   "execution_count": 29,
   "metadata": {},
   "outputs": [],
   "source": [
    "df20_q4 = df[(df['date'] >= '2020-10-01') & (df['date'] <= '2020-12-31')]"
   ]
  },
  {
   "cell_type": "code",
   "execution_count": 30,
   "metadata": {},
   "outputs": [],
   "source": [
    "df21_q1 = df[(df['date'] >= '2021-01-01') & (df['date'] <= '2021-03-31')]"
   ]
  },
  {
   "cell_type": "code",
   "execution_count": null,
   "metadata": {},
   "outputs": [],
   "source": []
  },
  {
   "cell_type": "code",
   "execution_count": 34,
   "metadata": {},
   "outputs": [
    {
     "name": "stderr",
     "output_type": "stream",
     "text": [
      "<ipython-input-34-ec1fc54ed5d3>:1: FutureWarning: DataFrame.mean and DataFrame.median with numeric_only=None will include datetime64 and datetime64tz columns in a future version.\n",
      "  df18_q2_mean = df18_q2.mean()\n",
      "<ipython-input-34-ec1fc54ed5d3>:2: FutureWarning: DataFrame.mean and DataFrame.median with numeric_only=None will include datetime64 and datetime64tz columns in a future version.\n",
      "  df18_q3_mean = df18_q3.mean()\n",
      "<ipython-input-34-ec1fc54ed5d3>:3: FutureWarning: DataFrame.mean and DataFrame.median with numeric_only=None will include datetime64 and datetime64tz columns in a future version.\n",
      "  df18_q4_mean = df18_q4.mean()\n"
     ]
    }
   ],
   "source": [
    "df18_q2_mean = df18_q2.mean()\n",
    "df18_q3_mean = df18_q3.mean()\n",
    "df18_q4_mean = df18_q4.mean()"
   ]
  },
  {
   "cell_type": "code",
   "execution_count": 35,
   "metadata": {},
   "outputs": [
    {
     "name": "stderr",
     "output_type": "stream",
     "text": [
      "<ipython-input-35-297be6965529>:1: FutureWarning: DataFrame.mean and DataFrame.median with numeric_only=None will include datetime64 and datetime64tz columns in a future version.\n",
      "  df19_q1_mean = df19_q1.mean()\n",
      "<ipython-input-35-297be6965529>:2: FutureWarning: DataFrame.mean and DataFrame.median with numeric_only=None will include datetime64 and datetime64tz columns in a future version.\n",
      "  df19_q2_mean = df19_q2.mean()\n",
      "<ipython-input-35-297be6965529>:3: FutureWarning: DataFrame.mean and DataFrame.median with numeric_only=None will include datetime64 and datetime64tz columns in a future version.\n",
      "  df19_q3_mean = df19_q3.mean()\n",
      "<ipython-input-35-297be6965529>:4: FutureWarning: DataFrame.mean and DataFrame.median with numeric_only=None will include datetime64 and datetime64tz columns in a future version.\n",
      "  df19_q4_mean = df19_q4.mean()\n"
     ]
    }
   ],
   "source": [
    "df19_q1_mean = df19_q1.mean()\n",
    "df19_q2_mean = df19_q2.mean()\n",
    "df19_q3_mean = df19_q3.mean()\n",
    "df19_q4_mean = df19_q4.mean()"
   ]
  },
  {
   "cell_type": "code",
   "execution_count": 36,
   "metadata": {},
   "outputs": [
    {
     "name": "stderr",
     "output_type": "stream",
     "text": [
      "<ipython-input-36-2e901aa37141>:1: FutureWarning: DataFrame.mean and DataFrame.median with numeric_only=None will include datetime64 and datetime64tz columns in a future version.\n",
      "  df20_q1_mean = df20_q1.mean()\n",
      "<ipython-input-36-2e901aa37141>:2: FutureWarning: DataFrame.mean and DataFrame.median with numeric_only=None will include datetime64 and datetime64tz columns in a future version.\n",
      "  df20_q2_mean = df20_q2.mean()\n",
      "<ipython-input-36-2e901aa37141>:3: FutureWarning: DataFrame.mean and DataFrame.median with numeric_only=None will include datetime64 and datetime64tz columns in a future version.\n",
      "  df20_q3_mean = df20_q3.mean()\n",
      "<ipython-input-36-2e901aa37141>:4: FutureWarning: DataFrame.mean and DataFrame.median with numeric_only=None will include datetime64 and datetime64tz columns in a future version.\n",
      "  df20_q4_mean = df20_q4.mean()\n"
     ]
    }
   ],
   "source": [
    "df20_q1_mean = df20_q1.mean()\n",
    "df20_q2_mean = df20_q2.mean()\n",
    "df20_q3_mean = df20_q3.mean()\n",
    "df20_q4_mean = df20_q4.mean()"
   ]
  },
  {
   "cell_type": "code",
   "execution_count": 37,
   "metadata": {},
   "outputs": [
    {
     "name": "stderr",
     "output_type": "stream",
     "text": [
      "<ipython-input-37-7c0f0516aae5>:1: FutureWarning: DataFrame.mean and DataFrame.median with numeric_only=None will include datetime64 and datetime64tz columns in a future version.\n",
      "  df21_q1_mean = df21_q1.mean()\n"
     ]
    }
   ],
   "source": [
    "df21_q1_mean = df21_q1.mean()"
   ]
  },
  {
   "cell_type": "code",
   "execution_count": 41,
   "metadata": {},
   "outputs": [
    {
     "data": {
      "text/plain": [
       "quality         -0.009355\n",
       "product         -0.005095\n",
       "bed             -0.000860\n",
       "design           0.000000\n",
       "storage          0.000000\n",
       "service          0.028595\n",
       "delivery         0.028595\n",
       "money            0.048245\n",
       "installation     0.064275\n",
       "wood             0.068675\n",
       "rating           3.900000\n",
       "dislikes        13.550000\n",
       "likes           24.550000\n",
       "dtype: float64"
      ]
     },
     "execution_count": 41,
     "metadata": {},
     "output_type": "execute_result"
    }
   ],
   "source": [
    "df18_q2_mean.sort_values()"
   ]
  },
  {
   "cell_type": "markdown",
   "metadata": {},
   "source": [
    "## Inferences:\n",
    "\n",
    "** By calculating the average polarity scores \n",
    "\n",
    "** For the period '2018 in Q2' \n",
    "\n",
    "** The feature which were more talked by the reviewers are wood, installation, money           "
   ]
  },
  {
   "cell_type": "code",
   "execution_count": 42,
   "metadata": {},
   "outputs": [
    {
     "data": {
      "text/plain": [
       "bed            -0.017369\n",
       "service        -0.007088\n",
       "design         -0.002558\n",
       "quality        -0.000460\n",
       "installation    0.002049\n",
       "delivery        0.005474\n",
       "storage         0.007834\n",
       "money           0.012619\n",
       "wood            0.021789\n",
       "product         0.076770\n",
       "dislikes        1.511111\n",
       "likes           2.644444\n",
       "rating          3.522222\n",
       "dtype: float64"
      ]
     },
     "execution_count": 42,
     "metadata": {},
     "output_type": "execute_result"
    }
   ],
   "source": [
    "df18_q3_mean.sort_values()"
   ]
  },
  {
   "cell_type": "markdown",
   "metadata": {},
   "source": [
    "## Inferences:\n",
    "\n",
    "** By calculating the average polarity scores \n",
    "\n",
    "** For the period '2018 in Q3' \n",
    "\n",
    "** The feature which were more talked by the reviewers are product, wood, money           "
   ]
  },
  {
   "cell_type": "code",
   "execution_count": 43,
   "metadata": {},
   "outputs": [
    {
     "data": {
      "text/plain": [
       "quality        -0.005626\n",
       "service         0.001759\n",
       "delivery        0.003996\n",
       "design          0.005485\n",
       "storage         0.006123\n",
       "installation    0.007761\n",
       "money           0.021583\n",
       "wood            0.022524\n",
       "bed             0.036909\n",
       "product         0.094641\n",
       "dislikes        0.825472\n",
       "likes           1.858491\n",
       "rating          3.754717\n",
       "dtype: float64"
      ]
     },
     "execution_count": 43,
     "metadata": {},
     "output_type": "execute_result"
    }
   ],
   "source": [
    "df18_q4_mean.sort_values()"
   ]
  },
  {
   "cell_type": "markdown",
   "metadata": {},
   "source": [
    "## Inferences:\n",
    "\n",
    "** By calculating the average polarity scores \n",
    "\n",
    "** For the period '2018 in Q4' \n",
    "\n",
    "** The feature which were more talked by the reviewers are product, bed, wood         "
   ]
  },
  {
   "cell_type": "code",
   "execution_count": 48,
   "metadata": {},
   "outputs": [
    {
     "data": {
      "text/plain": [
       "quality        -0.013817\n",
       "storage        -0.006696\n",
       "installation   -0.006067\n",
       "design         -0.000782\n",
       "bed             0.000731\n",
       "service         0.001145\n",
       "delivery        0.011412\n",
       "money           0.024214\n",
       "wood            0.032518\n",
       "product         0.088410\n",
       "dislikes        0.466019\n",
       "likes           1.203883\n",
       "rating          3.582524\n",
       "dtype: float64"
      ]
     },
     "execution_count": 48,
     "metadata": {},
     "output_type": "execute_result"
    }
   ],
   "source": [
    "df19_q1_mean.sort_values()"
   ]
  },
  {
   "cell_type": "markdown",
   "metadata": {},
   "source": [
    "## Inferences:\n",
    "\n",
    "** By calculating the average polarity scores \n",
    "\n",
    "** For the period '2019 in Q1' \n",
    "\n",
    "** The feature which were more talked by the reviewers are product, wood, money         "
   ]
  },
  {
   "cell_type": "code",
   "execution_count": 46,
   "metadata": {},
   "outputs": [
    {
     "data": {
      "text/plain": [
       "quality        -0.010320\n",
       "storage        -0.007425\n",
       "delivery        0.002732\n",
       "installation    0.009124\n",
       "design          0.010360\n",
       "service         0.021960\n",
       "money           0.025942\n",
       "bed             0.032848\n",
       "wood            0.038884\n",
       "product         0.090220\n",
       "dislikes        0.495050\n",
       "likes           1.900990\n",
       "rating          3.841584\n",
       "dtype: float64"
      ]
     },
     "execution_count": 46,
     "metadata": {},
     "output_type": "execute_result"
    }
   ],
   "source": [
    "df19_q2_mean.sort_values()"
   ]
  },
  {
   "cell_type": "markdown",
   "metadata": {},
   "source": [
    "## Inferences:\n",
    "\n",
    "** By calculating the average polarity scores \n",
    "\n",
    "** For the period '2019 in Q2' \n",
    "\n",
    "** The feature which were more talked by the reviewers are product, wood, bed        "
   ]
  },
  {
   "cell_type": "code",
   "execution_count": 47,
   "metadata": {},
   "outputs": [
    {
     "data": {
      "text/plain": [
       "quality        -0.018862\n",
       "service        -0.001013\n",
       "design         -0.000347\n",
       "storage         0.001623\n",
       "delivery        0.004080\n",
       "installation    0.009044\n",
       "bed             0.021668\n",
       "wood            0.037386\n",
       "money           0.039029\n",
       "product         0.064196\n",
       "dislikes        0.213235\n",
       "likes           0.389706\n",
       "rating          3.426471\n",
       "dtype: float64"
      ]
     },
     "execution_count": 47,
     "metadata": {},
     "output_type": "execute_result"
    }
   ],
   "source": [
    "df19_q3_mean.sort_values()"
   ]
  },
  {
   "cell_type": "markdown",
   "metadata": {},
   "source": [
    "## Inferences:\n",
    "\n",
    "** By calculating the average polarity scores \n",
    "\n",
    "** For the period '2019 in Q3' \n",
    "\n",
    "** The feature which were more talked by the reviewers are product, money, wood         "
   ]
  },
  {
   "cell_type": "code",
   "execution_count": 50,
   "metadata": {},
   "outputs": [
    {
     "data": {
      "text/plain": [
       "quality        -0.005850\n",
       "storage         0.000679\n",
       "design          0.004761\n",
       "delivery        0.005322\n",
       "service         0.012436\n",
       "installation    0.013112\n",
       "money           0.015551\n",
       "bed             0.032333\n",
       "wood            0.040026\n",
       "dislikes        0.046512\n",
       "product         0.062013\n",
       "likes           0.165375\n",
       "rating          3.953488\n",
       "dtype: float64"
      ]
     },
     "execution_count": 50,
     "metadata": {},
     "output_type": "execute_result"
    }
   ],
   "source": [
    "df19_q4_mean.sort_values()"
   ]
  },
  {
   "cell_type": "markdown",
   "metadata": {},
   "source": [
    "## Inferences:\n",
    "\n",
    "** By calculating the average polarity scores \n",
    "\n",
    "** For the period '2019 in Q4' \n",
    "\n",
    "** The feature which were more talked by the reviewers are product, wood, bed         "
   ]
  },
  {
   "cell_type": "code",
   "execution_count": 52,
   "metadata": {},
   "outputs": [
    {
     "data": {
      "text/plain": [
       "quality        -0.004468\n",
       "storage         0.003288\n",
       "design          0.005184\n",
       "delivery        0.008855\n",
       "service         0.017353\n",
       "installation    0.020044\n",
       "bed             0.026275\n",
       "wood            0.032192\n",
       "money           0.032480\n",
       "product         0.073993\n",
       "dislikes        0.104167\n",
       "likes           0.343750\n",
       "rating          4.079861\n",
       "dtype: float64"
      ]
     },
     "execution_count": 52,
     "metadata": {},
     "output_type": "execute_result"
    }
   ],
   "source": [
    "df20_q1_mean.sort_values()"
   ]
  },
  {
   "cell_type": "markdown",
   "metadata": {},
   "source": [
    "## Inferences:\n",
    "\n",
    "** By calculating the average polarity scores \n",
    "\n",
    "** For the period '2020 in Q1' \n",
    "\n",
    "** The feature which were more talked by the reviewers are product, wood, money         "
   ]
  },
  {
   "cell_type": "code",
   "execution_count": 55,
   "metadata": {},
   "outputs": [
    {
     "data": {
      "text/plain": [
       "quality        -0.003889\n",
       "bed            -0.002252\n",
       "design          0.003294\n",
       "storage         0.007296\n",
       "money           0.011962\n",
       "installation    0.013748\n",
       "delivery        0.015049\n",
       "service         0.037839\n",
       "wood            0.045278\n",
       "product         0.070283\n",
       "dislikes        0.213115\n",
       "likes           0.508197\n",
       "rating          4.008197\n",
       "dtype: float64"
      ]
     },
     "execution_count": 55,
     "metadata": {},
     "output_type": "execute_result"
    }
   ],
   "source": [
    "df20_q2_mean.sort_values()"
   ]
  },
  {
   "cell_type": "markdown",
   "metadata": {},
   "source": [
    "## Inferences:\n",
    "\n",
    "** By calculating the average polarity scores \n",
    "\n",
    "** For the period '2020 in Q2' \n",
    "\n",
    "** The feature which were more talked by the reviewers are product, wood, service        "
   ]
  },
  {
   "cell_type": "code",
   "execution_count": 54,
   "metadata": {},
   "outputs": [
    {
     "data": {
      "text/plain": [
       "quality        -0.010935\n",
       "storage        -0.001218\n",
       "dislikes        0.000000\n",
       "installation    0.003282\n",
       "service         0.006410\n",
       "delivery        0.008125\n",
       "design          0.013669\n",
       "money           0.016773\n",
       "bed             0.023962\n",
       "product         0.048994\n",
       "likes           0.050473\n",
       "wood            0.052132\n",
       "rating          3.577287\n",
       "dtype: float64"
      ]
     },
     "execution_count": 54,
     "metadata": {},
     "output_type": "execute_result"
    }
   ],
   "source": [
    "df20_q3_mean.sort_values()"
   ]
  },
  {
   "cell_type": "markdown",
   "metadata": {},
   "source": [
    "## Inferences:\n",
    "\n",
    "** By calculating the average polarity scores \n",
    "\n",
    "** For the period '2019 in Q3' \n",
    "\n",
    "** The feature which were more talked by the reviewers are product, bed, money         "
   ]
  },
  {
   "cell_type": "code",
   "execution_count": 56,
   "metadata": {},
   "outputs": [
    {
     "data": {
      "text/plain": [
       "storage        -0.001626\n",
       "quality        -0.000080\n",
       "service         0.004274\n",
       "delivery        0.006866\n",
       "design          0.008619\n",
       "installation    0.011875\n",
       "money           0.016349\n",
       "bed             0.018204\n",
       "dislikes        0.020747\n",
       "wood            0.042467\n",
       "likes           0.060166\n",
       "product         0.080327\n",
       "rating          3.968880\n",
       "dtype: float64"
      ]
     },
     "execution_count": 56,
     "metadata": {},
     "output_type": "execute_result"
    }
   ],
   "source": [
    "df20_q4_mean.sort_values()"
   ]
  },
  {
   "cell_type": "markdown",
   "metadata": {},
   "source": [
    "## Inferences:\n",
    "\n",
    "** By calculating the average polarity scores \n",
    "\n",
    "** For the period '2020 in Q4' \n",
    "\n",
    "** The feature which were more talked by the reviewers are product, wood, bed         "
   ]
  },
  {
   "cell_type": "code",
   "execution_count": 58,
   "metadata": {},
   "outputs": [
    {
     "data": {
      "text/plain": [
       "service         0.002409\n",
       "storage         0.003988\n",
       "design          0.004459\n",
       "delivery        0.008059\n",
       "installation    0.011057\n",
       "quality         0.014165\n",
       "money           0.014630\n",
       "bed             0.028397\n",
       "wood            0.039443\n",
       "dislikes        0.060729\n",
       "product         0.066521\n",
       "likes           0.145749\n",
       "rating          3.983806\n",
       "dtype: float64"
      ]
     },
     "execution_count": 58,
     "metadata": {},
     "output_type": "execute_result"
    }
   ],
   "source": [
    "df21_q1_mean.sort_values()"
   ]
  },
  {
   "cell_type": "markdown",
   "metadata": {},
   "source": [
    "## Inferences:\n",
    "\n",
    "** By calculating the average polarity scores \n",
    "\n",
    "** For the period '2021 in Q1' \n",
    "\n",
    "** The feature which were more talked by the reviewers are product, wood, bed         "
   ]
  },
  {
   "cell_type": "code",
   "execution_count": null,
   "metadata": {},
   "outputs": [],
   "source": []
  },
  {
   "cell_type": "code",
   "execution_count": 60,
   "metadata": {},
   "outputs": [
    {
     "name": "stderr",
     "output_type": "stream",
     "text": [
      "<ipython-input-60-037f062914f1>:1: FutureWarning: DataFrame.mean and DataFrame.median with numeric_only=None will include datetime64 and datetime64tz columns in a future version.\n",
      "  df.mean().sort_values()\n"
     ]
    },
    {
     "data": {
      "text/plain": [
       "quality        -0.004183\n",
       "storage         0.001077\n",
       "design          0.006057\n",
       "delivery        0.007278\n",
       "service         0.008627\n",
       "installation    0.010639\n",
       "money           0.020248\n",
       "bed             0.022028\n",
       "wood            0.038904\n",
       "product         0.071182\n",
       "dislikes        0.322426\n",
       "likes           0.721069\n",
       "rating          3.847965\n",
       "dtype: float64"
      ]
     },
     "execution_count": 60,
     "metadata": {},
     "output_type": "execute_result"
    }
   ],
   "source": [
    "df.mean().sort_values()"
   ]
  },
  {
   "cell_type": "code",
   "execution_count": null,
   "metadata": {},
   "outputs": [],
   "source": [
    "money           0.020248\n",
    "bed             0.022028\n",
    "wood            0.038904\n",
    "product         0.071182"
   ]
  },
  {
   "cell_type": "code",
   "execution_count": 61,
   "metadata": {},
   "outputs": [],
   "source": [
    "df_new =df[['money','bed','wood','product','date']]"
   ]
  },
  {
   "cell_type": "code",
   "execution_count": 62,
   "metadata": {},
   "outputs": [
    {
     "data": {
      "text/html": [
       "<div>\n",
       "<style scoped>\n",
       "    .dataframe tbody tr th:only-of-type {\n",
       "        vertical-align: middle;\n",
       "    }\n",
       "\n",
       "    .dataframe tbody tr th {\n",
       "        vertical-align: top;\n",
       "    }\n",
       "\n",
       "    .dataframe thead th {\n",
       "        text-align: right;\n",
       "    }\n",
       "</style>\n",
       "<table border=\"1\" class=\"dataframe\">\n",
       "  <thead>\n",
       "    <tr style=\"text-align: right;\">\n",
       "      <th></th>\n",
       "      <th>money</th>\n",
       "      <th>bed</th>\n",
       "      <th>wood</th>\n",
       "      <th>product</th>\n",
       "      <th>date</th>\n",
       "    </tr>\n",
       "  </thead>\n",
       "  <tbody>\n",
       "    <tr>\n",
       "      <th>78</th>\n",
       "      <td>0.0000</td>\n",
       "      <td>-0.5719</td>\n",
       "      <td>0.0000</td>\n",
       "      <td>0.0000</td>\n",
       "      <td>2018-03-25</td>\n",
       "    </tr>\n",
       "    <tr>\n",
       "      <th>214</th>\n",
       "      <td>0.6249</td>\n",
       "      <td>0.0000</td>\n",
       "      <td>0.0000</td>\n",
       "      <td>0.0000</td>\n",
       "      <td>2018-04-25</td>\n",
       "    </tr>\n",
       "    <tr>\n",
       "      <th>122</th>\n",
       "      <td>0.0000</td>\n",
       "      <td>0.0000</td>\n",
       "      <td>0.0000</td>\n",
       "      <td>0.0000</td>\n",
       "      <td>2018-04-25</td>\n",
       "    </tr>\n",
       "    <tr>\n",
       "      <th>106</th>\n",
       "      <td>0.0000</td>\n",
       "      <td>0.0000</td>\n",
       "      <td>0.0000</td>\n",
       "      <td>0.0000</td>\n",
       "      <td>2018-04-25</td>\n",
       "    </tr>\n",
       "    <tr>\n",
       "      <th>84</th>\n",
       "      <td>0.0000</td>\n",
       "      <td>0.0000</td>\n",
       "      <td>0.4404</td>\n",
       "      <td>0.0000</td>\n",
       "      <td>2018-04-25</td>\n",
       "    </tr>\n",
       "    <tr>\n",
       "      <th>...</th>\n",
       "      <td>...</td>\n",
       "      <td>...</td>\n",
       "      <td>...</td>\n",
       "      <td>...</td>\n",
       "      <td>...</td>\n",
       "    </tr>\n",
       "    <tr>\n",
       "      <th>224</th>\n",
       "      <td>0.0000</td>\n",
       "      <td>0.0000</td>\n",
       "      <td>0.0000</td>\n",
       "      <td>0.0000</td>\n",
       "      <td>2021-03-24</td>\n",
       "    </tr>\n",
       "    <tr>\n",
       "      <th>223</th>\n",
       "      <td>0.3400</td>\n",
       "      <td>0.0000</td>\n",
       "      <td>0.0000</td>\n",
       "      <td>0.0000</td>\n",
       "      <td>2021-03-24</td>\n",
       "    </tr>\n",
       "    <tr>\n",
       "      <th>220</th>\n",
       "      <td>0.0000</td>\n",
       "      <td>0.0000</td>\n",
       "      <td>0.6486</td>\n",
       "      <td>0.0000</td>\n",
       "      <td>2021-03-25</td>\n",
       "    </tr>\n",
       "    <tr>\n",
       "      <th>222</th>\n",
       "      <td>0.0000</td>\n",
       "      <td>0.6361</td>\n",
       "      <td>0.0000</td>\n",
       "      <td>0.0000</td>\n",
       "      <td>2021-03-25</td>\n",
       "    </tr>\n",
       "    <tr>\n",
       "      <th>221</th>\n",
       "      <td>0.0000</td>\n",
       "      <td>0.0000</td>\n",
       "      <td>0.4404</td>\n",
       "      <td>0.4927</td>\n",
       "      <td>2021-03-25</td>\n",
       "    </tr>\n",
       "  </tbody>\n",
       "</table>\n",
       "<p>2506 rows × 5 columns</p>\n",
       "</div>"
      ],
      "text/plain": [
       "      money     bed    wood  product       date\n",
       "78   0.0000 -0.5719  0.0000   0.0000 2018-03-25\n",
       "214  0.6249  0.0000  0.0000   0.0000 2018-04-25\n",
       "122  0.0000  0.0000  0.0000   0.0000 2018-04-25\n",
       "106  0.0000  0.0000  0.0000   0.0000 2018-04-25\n",
       "84   0.0000  0.0000  0.4404   0.0000 2018-04-25\n",
       "..      ...     ...     ...      ...        ...\n",
       "224  0.0000  0.0000  0.0000   0.0000 2021-03-24\n",
       "223  0.3400  0.0000  0.0000   0.0000 2021-03-24\n",
       "220  0.0000  0.0000  0.6486   0.0000 2021-03-25\n",
       "222  0.0000  0.6361  0.0000   0.0000 2021-03-25\n",
       "221  0.0000  0.0000  0.4404   0.4927 2021-03-25\n",
       "\n",
       "[2506 rows x 5 columns]"
      ]
     },
     "execution_count": 62,
     "metadata": {},
     "output_type": "execute_result"
    }
   ],
   "source": [
    "df_new"
   ]
  },
  {
   "cell_type": "code",
   "execution_count": 100,
   "metadata": {},
   "outputs": [
    {
     "data": {
      "image/png": "[encoded data removed]",
      "text/plain": [
       "<Figure size 1440x864 with 1 Axes>"
      ]
     },
     "metadata": {
      "needs_background": "light"
     },
     "output_type": "display_data"
    }
   ],
   "source": [
    "plt.rc('font', size=12)\n",
    "fig, ax = plt.subplots(figsize=(20,12))\n",
    "\n",
    "# Specify how our lines should look\n",
    "ax.plot(df.date , df.money, color='tab:green', label='Money vs Date')\n",
    "\n",
    "# Same as above\n",
    "ax.set_xlabel('date')\n",
    "ax.set_ylabel('Money')\n",
    "ax.set_title('Feature_Analysis')\n",
    "ax.grid(True)\n",
    "ax.legend(loc='upper left');"
   ]
  },
  {
   "cell_type": "code",
   "execution_count": 99,
   "metadata": {},
   "outputs": [
    {
     "data": {
      "image/png": "[encoded data removed]",
      "text/plain": [
       "<Figure size 1440x864 with 1 Axes>"
      ]
     },
     "metadata": {
      "needs_background": "light"
     },
     "output_type": "display_data"
    }
   ],
   "source": [
    "plt.rc('font', size=12)\n",
    "fig, ax = plt.subplots(figsize=(20,12))\n",
    "\n",
    "# Specify how our lines should look\n",
    "ax.plot(df.date , df.bed, color='tab:green', label='bed vs Date')\n",
    "\n",
    "# Same as above\n",
    "ax.set_xlabel('date')\n",
    "ax.set_ylabel('bed')\n",
    "ax.set_title('Feature_Analysis')\n",
    "ax.grid(True)\n",
    "ax.legend(loc='upper left');"
   ]
  },
  {
   "cell_type": "code",
   "execution_count": 98,
   "metadata": {},
   "outputs": [
    {
     "data": {
      "image/png": "[encoded data removed]",
      "text/plain": [
       "<Figure size 1440x864 with 1 Axes>"
      ]
     },
     "metadata": {
      "needs_background": "light"
     },
     "output_type": "display_data"
    }
   ],
   "source": [
    "plt.rc('font', size=12)\n",
    "fig, ax = plt.subplots(figsize=(20, 12))\n",
    "\n",
    "# Specify how our lines should look\n",
    "ax.plot(df.date , df.wood, color='tab:green', label='wood vs Date')\n",
    "\n",
    "# Same as above\n",
    "ax.set_xlabel('date')\n",
    "ax.set_ylabel('wood')\n",
    "ax.set_title('Feature_Analysis')\n",
    "ax.grid(True)\n",
    "ax.legend(loc='upper left');"
   ]
  },
  {
   "cell_type": "code",
   "execution_count": null,
   "metadata": {},
   "outputs": [],
   "source": []
  },
  {
   "cell_type": "code",
   "execution_count": 85,
   "metadata": {},
   "outputs": [
    {
     "name": "stderr",
     "output_type": "stream",
     "text": [
      "<ipython-input-85-457f7ae6bc30>:1: FutureWarning: DataFrame.mean and DataFrame.median with numeric_only=None will include datetime64 and datetime64tz columns in a future version.\n",
      "  df18_q2.mean().sort_values()\n"
     ]
    },
    {
     "data": {
      "text/plain": [
       "quality         -0.009355\n",
       "product         -0.005095\n",
       "bed             -0.000860\n",
       "design           0.000000\n",
       "storage          0.000000\n",
       "service          0.028595\n",
       "delivery         0.028595\n",
       "money            0.048245\n",
       "installation     0.064275\n",
       "wood             0.068675\n",
       "rating           3.900000\n",
       "dislikes        13.550000\n",
       "likes           24.550000\n",
       "dtype: float64"
      ]
     },
     "execution_count": 85,
     "metadata": {},
     "output_type": "execute_result"
    }
   ],
   "source": [
    "df18_q2.mean().sort_values()"
   ]
  },
  {
   "cell_type": "code",
   "execution_count": 86,
   "metadata": {},
   "outputs": [],
   "source": [
    "df18_q2set = df18_q2[['wood','installation','money','date']]"
   ]
  },
  {
   "cell_type": "code",
   "execution_count": 87,
   "metadata": {},
   "outputs": [
    {
     "data": {
      "text/html": [
       "<div>\n",
       "<style scoped>\n",
       "    .dataframe tbody tr th:only-of-type {\n",
       "        vertical-align: middle;\n",
       "    }\n",
       "\n",
       "    .dataframe tbody tr th {\n",
       "        vertical-align: top;\n",
       "    }\n",
       "\n",
       "    .dataframe thead th {\n",
       "        text-align: right;\n",
       "    }\n",
       "</style>\n",
       "<table border=\"1\" class=\"dataframe\">\n",
       "  <thead>\n",
       "    <tr style=\"text-align: right;\">\n",
       "      <th></th>\n",
       "      <th>wood</th>\n",
       "      <th>installation</th>\n",
       "      <th>money</th>\n",
       "      <th>date</th>\n",
       "    </tr>\n",
       "  </thead>\n",
       "  <tbody>\n",
       "    <tr>\n",
       "      <th>214</th>\n",
       "      <td>0.0000</td>\n",
       "      <td>0.0000</td>\n",
       "      <td>0.6249</td>\n",
       "      <td>2018-04-25</td>\n",
       "    </tr>\n",
       "    <tr>\n",
       "      <th>122</th>\n",
       "      <td>0.0000</td>\n",
       "      <td>0.0000</td>\n",
       "      <td>0.0000</td>\n",
       "      <td>2018-04-25</td>\n",
       "    </tr>\n",
       "    <tr>\n",
       "      <th>106</th>\n",
       "      <td>0.0000</td>\n",
       "      <td>0.4404</td>\n",
       "      <td>0.0000</td>\n",
       "      <td>2018-04-25</td>\n",
       "    </tr>\n",
       "    <tr>\n",
       "      <th>84</th>\n",
       "      <td>0.4404</td>\n",
       "      <td>0.0000</td>\n",
       "      <td>0.0000</td>\n",
       "      <td>2018-04-25</td>\n",
       "    </tr>\n",
       "    <tr>\n",
       "      <th>0</th>\n",
       "      <td>0.4927</td>\n",
       "      <td>0.2732</td>\n",
       "      <td>0.0000</td>\n",
       "      <td>2018-05-25</td>\n",
       "    </tr>\n",
       "  </tbody>\n",
       "</table>\n",
       "</div>"
      ],
      "text/plain": [
       "       wood  installation   money       date\n",
       "214  0.0000        0.0000  0.6249 2018-04-25\n",
       "122  0.0000        0.0000  0.0000 2018-04-25\n",
       "106  0.0000        0.4404  0.0000 2018-04-25\n",
       "84   0.4404        0.0000  0.0000 2018-04-25\n",
       "0    0.4927        0.2732  0.0000 2018-05-25"
      ]
     },
     "execution_count": 87,
     "metadata": {},
     "output_type": "execute_result"
    }
   ],
   "source": [
    "df18_q2set.head()"
   ]
  },
  {
   "cell_type": "code",
   "execution_count": 88,
   "metadata": {},
   "outputs": [
    {
     "data": {
      "text/plain": [
       "[<matplotlib.lines.Line2D at 0x7f9963357970>]"
      ]
     },
     "execution_count": 88,
     "metadata": {},
     "output_type": "execute_result"
    },
    {
     "data": {
      "image/png": "[encoded data removed]",
      "text/plain": [
       "<Figure size 432x288 with 1 Axes>"
      ]
     },
     "metadata": {
      "needs_background": "light"
     },
     "output_type": "display_data"
    }
   ],
   "source": [
    "plt.plot_date(df18_q2set['date'],df18_q2set['money'])"
   ]
  },
  {
   "cell_type": "code",
   "execution_count": 91,
   "metadata": {},
   "outputs": [
    {
     "data": {
      "image/png": "[encoded data removed]",
      "text/plain": [
       "<Figure size 720x432 with 1 Axes>"
      ]
     },
     "metadata": {
      "needs_background": "light"
     },
     "output_type": "display_data"
    }
   ],
   "source": [
    "plt.rc('font', size=12)\n",
    "fig, ax = plt.subplots(figsize=(10, 6))\n",
    "\n",
    "# Specify how our lines should look\n",
    "ax.plot(df18_q2set['date'],df18_q2set['money'], color='tab:orange', label='Money vs Date for 2018Q2')\n",
    "\n",
    "# Same as above\n",
    "ax.set_xlabel('date')\n",
    "ax.set_ylabel('Money')\n",
    "ax.set_title('Feature_Analysis')\n",
    "ax.grid(True)\n",
    "ax.legend(loc='upper left');"
   ]
  },
  {
   "cell_type": "code",
   "execution_count": null,
   "metadata": {},
   "outputs": [],
   "source": []
  },
  {
   "cell_type": "code",
   "execution_count": 103,
   "metadata": {},
   "outputs": [
    {
     "data": {
      "image/png": "[encoded data removed]",
      "text/plain": [
       "<Figure size 1440x864 with 1 Axes>"
      ]
     },
     "metadata": {
      "needs_background": "light"
     },
     "output_type": "display_data"
    }
   ],
   "source": [
    "# plot lines\n",
    "\n",
    "fig, ax = plt.subplots(figsize=(20, 12))\n",
    "plt.plot(df18_q2set['date'],df18_q2set['wood'], label = \"wood\")\n",
    "plt.legend()\n",
    "plt.show()"
   ]
  },
  {
   "cell_type": "code",
   "execution_count": null,
   "metadata": {},
   "outputs": [],
   "source": [
    "plt.rc('font', size=12)\n",
    "fig, ax = plt.subplots(figsize=(10, 6))\n",
    "\n",
    "# Specify how our lines should look\n",
    "ax.plot(df.date , df.wood, color='tab:green', label='wood vs Date')\n",
    "\n",
    "# Same as above\n",
    "ax.set_xlabel('date')\n",
    "ax.set_ylabel('wood')\n",
    "ax.set_title('Feature_Analysis')\n",
    "ax.grid(True)\n",
    "ax.legend(loc='upper left');"
   ]
  }
 ],
 "metadata": {
  "kernelspec": {
   "display_name": "Python 3",
   "language": "python",
   "name": "python3"
  },
  "language_info": {
   "codemirror_mode": {
    "name": "ipython",
    "version": 3
   },
   "file_extension": ".py",
   "mimetype": "text/x-python",
   "name": "python",
   "nbconvert_exporter": "python",
   "pygments_lexer": "ipython3",
   "version": "3.8.5"
  }
 },
 "nbformat": 4,
 "nbformat_minor": 4
}
